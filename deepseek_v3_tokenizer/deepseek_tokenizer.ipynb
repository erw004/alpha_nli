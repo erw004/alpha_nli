{
 "cells": [
  {
   "cell_type": "code",
   "execution_count": 1,
   "id": "84d12707-6305-42d4-b3f9-57cc54cd78fe",
   "metadata": {},
   "outputs": [],
   "source": [
    "# pip3 install transformers\n",
    "# python3 deepseek_tokenizer.py\n",
    "import transformers"
   ]
  },
  {
   "cell_type": "code",
   "execution_count": 10,
   "id": "db43d881-0ac8-4f66-ae55-59535818a778",
   "metadata": {},
   "outputs": [
    {
     "name": "stdout",
     "output_type": "stream",
     "text": [
      "185\n",
      "1082\n"
     ]
    }
   ],
   "source": [
    "chat_tokenizer_dir = \"./\"\n",
    "\n",
    "tokenizer = transformers.AutoTokenizer.from_pretrained( \n",
    "        chat_tokenizer_dir, trust_remote_code=True\n",
    "        )\n",
    "\n",
    "with open(\"example_input.txt\") as f:\n",
    "    result = tokenizer.encode(f.read())\n",
    "    print(len(result))\n",
    "\n",
    "with open(\"example_output.txt\") as f:\n",
    "    result = tokenizer.encode(f.read())\n",
    "    print(len(result))"
   ]
  },
  {
   "cell_type": "code",
   "execution_count": 8,
   "id": "3ee20288-9328-43e9-bacc-a135bb6bff01",
   "metadata": {},
   "outputs": [
    {
     "data": {
      "text/plain": [
       "0.07056000000000001"
      ]
     },
     "execution_count": 8,
     "metadata": {},
     "output_type": "execute_result"
    }
   ],
   "source": [
    "185 * (0.14 / 1000000) * 3000"
   ]
  },
  {
   "cell_type": "code",
   "execution_count": 11,
   "id": "1ec89d0f-924f-4a57-95e3-11f5792a1943",
   "metadata": {},
   "outputs": [
    {
     "data": {
      "text/plain": [
       "7.108739999999999"
      ]
     },
     "execution_count": 11,
     "metadata": {},
     "output_type": "execute_result"
    }
   ],
   "source": [
    "1082 * (2.19 / 1000000) * 3000"
   ]
  },
  {
   "cell_type": "code",
   "execution_count": null,
   "id": "057bb3ed-fc6d-429a-9295-b097f1ab9ad5",
   "metadata": {},
   "outputs": [],
   "source": []
  }
 ],
 "metadata": {
  "kernelspec": {
   "display_name": "Python 3 (ipykernel)",
   "language": "python",
   "name": "python3"
  },
  "language_info": {
   "codemirror_mode": {
    "name": "ipython",
    "version": 3
   },
   "file_extension": ".py",
   "mimetype": "text/x-python",
   "name": "python",
   "nbconvert_exporter": "python",
   "pygments_lexer": "ipython3",
   "version": "3.11.8"
  }
 },
 "nbformat": 4,
 "nbformat_minor": 5
}
